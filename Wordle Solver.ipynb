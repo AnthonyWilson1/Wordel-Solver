{
 "cells": [
  {
   "cell_type": "code",
   "execution_count": 228,
   "id": "d1cf1c46",
   "metadata": {},
   "outputs": [
    {
     "name": "stdout",
     "output_type": "stream",
     "text": [
      "2315\n"
     ]
    }
   ],
   "source": [
    "# Wordle Solution List\n",
    "import requests\n",
    "\n",
    "response_sol = requests.get('https://gist.githubusercontent.com/scholtes/94f3c0303ba6a7768b47583aff36654d/raw/d9cddf5e16140df9e14f19c2de76a0ef36fd2748/wordle-La.txt')\n",
    "sol_list = response_sol.text\n",
    "sol_list_arr = list(sol_list.split())\n",
    "print(len(sol_list_arr))"
   ]
  },
  {
   "cell_type": "code",
   "execution_count": 229,
   "id": "ef26e626",
   "metadata": {},
   "outputs": [
    {
     "name": "stdout",
     "output_type": "stream",
     "text": [
      "12972\n"
     ]
    }
   ],
   "source": [
    "# Wordle Guess List\n",
    "\n",
    "response_guess = requests.get('https://gist.githubusercontent.com/scholtes/94f3c0303ba6a7768b47583aff36654d/raw/d9cddf5e16140df9e14f19c2de76a0ef36fd2748/wordle-Ta.txt')\n",
    "guess_list = response_guess.text\n",
    "guess_list_arr = list(guess_list.split()) + sol_list_arr\n",
    "print(len(guess_list_arr))"
   ]
  },
  {
   "cell_type": "code",
   "execution_count": 230,
   "id": "dcaba873",
   "metadata": {},
   "outputs": [
    {
     "name": "stdout",
     "output_type": "stream",
     "text": [
      "aback\n"
     ]
    }
   ],
   "source": [
    "# Initial word\n",
    "initial_word = sol_list_arr[0]\n",
    "print(initial_word)"
   ]
  },
  {
   "cell_type": "code",
   "execution_count": 231,
   "id": "c2118d55",
   "metadata": {},
   "outputs": [
    {
     "name": "stdout",
     "output_type": "stream",
     "text": [
      "newly\n"
     ]
    }
   ],
   "source": [
    "# Pick random guess\n",
    "import random\n",
    "\n",
    "# Set the seed\n",
    "#random.seed(42)\n",
    "\n",
    "# Generate random numbers\n",
    "random_number_1 = random.randint(0, len(guess_list_arr))\n",
    "\n",
    "# Print random word\n",
    "word_guess = guess_list_arr[random_number_1]\n",
    "\n",
    "print(word_guess)"
   ]
  },
  {
   "cell_type": "code",
   "execution_count": 232,
   "id": "d5b145e0",
   "metadata": {},
   "outputs": [],
   "source": [
    "# State\n",
    "\n",
    "state = ['*','*','*','*','*']"
   ]
  },
  {
   "cell_type": "code",
   "execution_count": 233,
   "id": "29ee47f3",
   "metadata": {},
   "outputs": [],
   "source": [
    "# Compare guess to solution and update state accordingly\n",
    "\n",
    "sec_gues = 'amxaw'\n"
   ]
  },
  {
   "cell_type": "code",
   "execution_count": 234,
   "id": "8ace37b4",
   "metadata": {},
   "outputs": [],
   "source": [
    "def make_guess(guess, word_bank, state):\n",
    "    \n",
    "    wrong_loc = {}\n",
    "    letter_wrong = []\n",
    "    final_word_bank = []\n",
    "\n",
    "    \n",
    "    # update state and word bank\n",
    "    for i in range(0,len(guess)):\n",
    "        # Right position\n",
    "        if guess[i] == initial_word[i]:\n",
    "            # update state\n",
    "            state[i] = guess[i]\n",
    "            \n",
    "            # update word bank\n",
    "            for j in range(0,len(word_bank)):\n",
    "                \n",
    "                if word_bank[j] != '*':\n",
    "                    \n",
    "                    if guess[i] != word_bank[j][i]:\n",
    "                        word_bank[j]= \"*\"\n",
    "                    \n",
    "        elif guess[i] != initial_word[i] and guess[i] in initial_word:\n",
    "            # also want words with the right letter but wrong index\n",
    "            wrong_loc[guess[i]] = i\n",
    "            \n",
    "            # update word bank\n",
    "            for l in range(0,len(word_bank)):\n",
    "                \n",
    "                if word_bank[l] != '*':\n",
    "                    \n",
    "                    if guess[i] == word_bank[l][i]:\n",
    "                        word_bank[l] = \"*\"\n",
    "            \n",
    "        else:\n",
    "            letter_wrong.append(guess[i])\n",
    "            \n",
    "            # update word bank\n",
    "            for k in range(0,len(word_bank)):\n",
    "                \n",
    "                if word_bank[k] != '*':\n",
    "                    \n",
    "                    if guess[i] in word_bank[k]:\n",
    "                        word_bank[k] = \"*\"\n",
    "                        \n",
    "    \n",
    "    # reduce word bank\n",
    "    for word in word_bank:\n",
    "        \n",
    "        if word != '*':\n",
    "            final_word_bank.append(word)\n",
    "        \n",
    "    return final_word_bank\n",
    "        \n",
    "# updated_bank = make_guess(sec_gues,guess_list_arr, state)\n",
    "# print(updated_bank)\n",
    "\n",
    "\n"
   ]
  },
  {
   "cell_type": "code",
   "execution_count": 235,
   "id": "6197672f",
   "metadata": {},
   "outputs": [],
   "source": [
    "def listToString(s):\n",
    " \n",
    "    # initialize an empty string\n",
    "    str1 = \"\"\n",
    " \n",
    "    # traverse in the string\n",
    "    for ele in s:\n",
    "        str1 += ele\n",
    " \n",
    "    # return string\n",
    "    return str1\n",
    " "
   ]
  },
  {
   "cell_type": "code",
   "execution_count": 236,
   "id": "b7983b80",
   "metadata": {},
   "outputs": [
    {
     "name": "stdout",
     "output_type": "stream",
     "text": [
      "495\n",
      "anyon\n",
      "245\n",
      "arced\n",
      "51\n",
      "abash\n",
      "5\n",
      "abaft\n",
      "4\n",
      "aback\n",
      "1\n",
      "6\n"
     ]
    }
   ],
   "source": [
    "# Full game\n",
    "\n",
    "# Initial word & first guess have been set.\n",
    "\n",
    "# State has been set to blank\n",
    "\n",
    "# Main Code\n",
    "\n",
    "# While state does not equal word:\n",
    "\n",
    "    # guess = guess_function(word_bank) This function take the word bank and chose a guess from it.\n",
    "    \n",
    "    # make_guess(guess) This function goes through the letter of each word then filters the word bank accordingly\n",
    "    # while updating the state as well. Return word bank.\n",
    "    \n",
    "guess_counter = 0       \n",
    " \n",
    "while listToString(state) != initial_word:\n",
    "    \n",
    "    first_guess = 'amxaw'\n",
    "    \n",
    "    if guess_counter == 0:\n",
    "        \n",
    "        updated_bank = make_guess(first_guess,guess_list_arr, state)\n",
    "        \n",
    "        print(len(updated_bank))\n",
    "    \n",
    "    else:\n",
    "        \n",
    "        random_guess = random.randint(0, len(updated_bank))\n",
    "        \n",
    "        print(updated_bank[random_guess - 1])\n",
    "        \n",
    "        updated_bank = make_guess(updated_bank[random_guess - 1], updated_bank, state)\n",
    "   \n",
    "        print(len(updated_bank))\n",
    "    \n",
    "    guess_counter += 1\n",
    "    \n",
    "    \n",
    "# print(state)\n",
    "print(guess_counter)\n",
    "    "
   ]
  }
 ],
 "metadata": {
  "kernelspec": {
   "display_name": "Python 3 (ipykernel)",
   "language": "python",
   "name": "python3"
  },
  "language_info": {
   "codemirror_mode": {
    "name": "ipython",
    "version": 3
   },
   "file_extension": ".py",
   "mimetype": "text/x-python",
   "name": "python",
   "nbconvert_exporter": "python",
   "pygments_lexer": "ipython3",
   "version": "3.9.12"
  }
 },
 "nbformat": 4,
 "nbformat_minor": 5
}
